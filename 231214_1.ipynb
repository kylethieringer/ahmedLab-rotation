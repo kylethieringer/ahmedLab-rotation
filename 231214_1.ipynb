{
 "cells": [
  {
   "cell_type": "code",
   "execution_count": 9,
   "metadata": {
    "collapsed": true
   },
   "outputs": [],
   "source": [
    "import numpy as np\n",
    "import h5py\n",
    "import os\n",
    "import glob\n",
    "from nre import io, moco, roi\n",
    "import ants\n",
    "\n",
    "from util import _zscore, _zdff\n",
    "\n",
    "import matplotlib.pyplot as plt\n",
    "from matplotlib.widgets import Slider"
   ]
  },
  {
   "cell_type": "code",
   "execution_count": 10,
   "metadata": {
    "collapsed": false
   },
   "outputs": [
    {
     "name": "stdout",
     "output_type": "stream",
     "text": [
      "num ch1 .nii files:  5\n",
      "num ch2 .nii files:  5\n"
     ]
    }
   ],
   "source": [
    "# dropboxDir = \"/Users/kyle/Library/CloudStorage/Dropbox-ahmedlab/ahmedlab-big/kyle/data\"\n",
    "dropboxDir = \"/Users/kyle/ahmedlab Dropbox/ahmedlab-big/kyle/data\"\n",
    "fly = '231213_106-013'\n",
    "dataDir = os.path.join(dropboxDir, fly)\n",
    "nifty_paths_ch1 = glob.glob(os.path.join(dataDir, fly+'_channel_1*.nii'))\n",
    "nifty_paths_ch2 = glob.glob(os.path.join(dataDir, fly+'_channel_2*.nii'))\n",
    "nifty_paths_ch1.sort()\n",
    "nifty_paths_ch2.sort()\n",
    "print(\"num ch1 .nii files: \", len(nifty_paths_ch1))\n",
    "print(\"num ch2 .nii files: \", len(nifty_paths_ch2))\n",
    "\n",
    "labels_path = os.path.join(dataDir, fly+'_labels.h5')"
   ]
  },
  {
   "cell_type": "code",
   "execution_count": 11,
   "metadata": {
    "collapsed": false
   },
   "outputs": [],
   "source": [
    "nii_split_num = 1\n",
    "splitID = os.path.basename(nifty_paths_ch2[nii_split_num]).split('_')[-1].split('.')[0]\n",
    "\n",
    "brain = io.load(nifty_paths_ch2[nii_split_num])\n",
    "\n",
    "n_slices = brain.shape[2]\n",
    "n_vols = brain.shape[-1]"
   ]
  },
  {
   "cell_type": "code",
   "execution_count": 12,
   "metadata": {
    "collapsed": false
   },
   "outputs": [
    {
     "name": "stdout",
     "output_type": "stream",
     "text": [
      "nii split ID:  s1000\n",
      "# z slices:  25\n",
      "# volumes:  500\n"
     ]
    }
   ],
   "source": [
    "print(\"nii split ID: \", splitID)\n",
    "print(\"# z slices: \", n_slices)\n",
    "print(\"# volumes: \", n_vols)\n"
   ]
  },
  {
   "cell_type": "code",
   "execution_count": 13,
   "metadata": {
    "collapsed": false
   },
   "outputs": [],
   "source": [
    "mean_brain = np.mean(brain, axis=-1)\n",
    "fixed = ants.from_numpy(mean_brain)"
   ]
  },
  {
   "cell_type": "code",
   "execution_count": 14,
   "metadata": {},
   "outputs": [
    {
     "data": {
      "text/plain": [
       "ANTsImage (RAI)\n",
       "\t Pixel Type : float (float32)\n",
       "\t Components : 1\n",
       "\t Dimensions : (255, 193, 25)\n",
       "\t Spacing    : (1.0, 1.0, 1.0)\n",
       "\t Origin     : (0.0, 0.0, 0.0)\n",
       "\t Direction  : [1. 0. 0. 0. 1. 0. 0. 0. 1.]"
      ]
     },
     "execution_count": 14,
     "metadata": {},
     "output_type": "execute_result"
    }
   ],
   "source": [
    "fixed"
   ]
  },
  {
   "cell_type": "code",
   "execution_count": 16,
   "metadata": {
    "collapsed": false
   },
   "outputs": [],
   "source": [
    "io.save(os.path.join(dataDir, f'fixed_{splitID}.nii'), mean_brain)"
   ]
  },
  {
   "cell_type": "code",
   "execution_count": 8,
   "metadata": {
    "collapsed": false
   },
   "outputs": [],
   "source": [
    "moco_brain = np.zeros_like(brain)\n",
    "\n",
    "for vol in range(n_vols):\n",
    "    moving = ants.from_numpy(brain[:, :, :, vol])\n",
    "    moco_brain[:, :, :, vol] = moco.apply(fixed, moving).numpy()"
   ]
  },
  {
   "cell_type": "code",
   "execution_count": 31,
   "metadata": {
    "collapsed": false
   },
   "outputs": [],
   "source": [
    "io.save(os.path.join(dataDir, f'moco_brain_{splitID}.nii'), moco_brain)\n"
   ]
  },
  {
   "cell_type": "code",
   "execution_count": 17,
   "metadata": {
    "collapsed": false
   },
   "outputs": [],
   "source": [
    "moco_brain = io.load(os.path.join(dataDir, f'moco_brain_{splitID}.nii'))"
   ]
  },
  {
   "cell_type": "code",
   "execution_count": 18,
   "metadata": {
    "collapsed": false
   },
   "outputs": [
    {
     "data": {
      "text/plain": [
       "(255, 193, 25, 500)"
      ]
     },
     "execution_count": 18,
     "metadata": {},
     "output_type": "execute_result"
    }
   ],
   "source": [
    "moco_brain.shape"
   ]
  },
  {
   "cell_type": "code",
   "execution_count": 21,
   "metadata": {
    "collapsed": false
   },
   "outputs": [],
   "source": [
    "n_clusters = 100  # this can be any number... I suggest 500 or 1000. Brezovec et al used 2000\n"
   ]
  },
  {
   "cell_type": "code",
   "execution_count": 22,
   "metadata": {
    "collapsed": false
   },
   "outputs": [],
   "source": [
    "labels = []\n",
    "\n",
    "# for each slice in Z, generate n_clusters of pixels and return the pixel label\n",
    "for iSlice in range(moco_brain.shape[2]):\n",
    "    cluster_model = roi.create_2d_clusters(moco_brain[:, :, iSlice, :], n_clusters, 'tmp/cluster_mem')\n",
    "    labels.append(cluster_model.labels_)"
   ]
  },
  {
   "cell_type": "code",
   "execution_count": 25,
   "metadata": {
    "collapsed": false
   },
   "outputs": [],
   "source": [
    "F_WINDOW = n_vols"
   ]
  },
  {
   "cell_type": "code",
   "execution_count": 26,
   "metadata": {
    "collapsed": false
   },
   "outputs": [],
   "source": [
    "ROIs = np.empty((n_slices, n_clusters, n_vols))\n",
    "\n",
    "for iSlice in range(n_slices):\n",
    "    mean_signal = np.empty(shape=(n_vols, n_clusters))\n",
    "\n",
    "    for vol in range(n_vols):\n",
    "        mean_supervox, _ = roi.get_supervoxel_mean_2D(moco_brain[:, :, iSlice, vol], labels[iSlice], n_clusters)\n",
    "        mean_signal[vol] = mean_supervox\n",
    "\n",
    "    # find zscored(df/f) and smooth over time\n",
    "    ROIs[iSlice, :, :] = _zdff(mean_signal.T, win=F_WINDOW, smooth=True)"
   ]
  },
  {
   "cell_type": "code",
   "execution_count": 59,
   "metadata": {
    "collapsed": false
   },
   "outputs": [],
   "source": [
    "rois = io.load('/Users/kyle/ahmedlab Dropbox/ahmedlab-big/kyle/data/231213_106-013/2_s1000_ROIs.nii')"
   ]
  },
  {
   "cell_type": "code",
   "execution_count": 60,
   "metadata": {
    "collapsed": false
   },
   "outputs": [
    {
     "data": {
      "image/png": "[encoded data removed]",
      "text/plain": [
       "<Figure size 640x480 with 1 Axes>"
      ]
     },
     "metadata": {},
     "output_type": "display_data"
    }
   ],
   "source": [
    "%matplotlib inline\n",
    "# plt.plot(detrend(ROIs[24,10,:]))\n",
    "plt.plot(ROIs[24,10,:])\n",
    "plt.plot(rois[24,10,:])\n",
    "plt.show()"
   ]
  },
  {
   "cell_type": "code",
   "execution_count": 34,
   "metadata": {
    "collapsed": false
   },
   "outputs": [
    {
     "data": {
      "text/plain": [
       "array([  7,   8,   9,  18,  19,  20,  24,  25,  26,  57,  58,  59,  66,\n",
       "        67,  68, 100, 101, 102, 103, 104, 110, 111, 112, 149, 150, 151,\n",
       "       152, 153, 157, 158, 159, 160, 161])"
      ]
     },
     "execution_count": 34,
     "metadata": {},
     "output_type": "execute_result"
    }
   ],
   "source": [
    "np.where(ROIs[24,10,:]<-2)[0]"
   ]
  },
  {
   "cell_type": "code",
   "execution_count": 38,
   "metadata": {},
   "outputs": [],
   "source": [
    "xmlpath = '/Users/kyle/ahmedlab Dropbox/ahmedlab-big/kyle/data/231213_106-013/231213_106-013.xml'"
   ]
  },
  {
   "cell_type": "code",
   "execution_count": 39,
   "metadata": {},
   "outputs": [],
   "source": [
    "import xmltodict"
   ]
  },
  {
   "cell_type": "code",
   "execution_count": 42,
   "metadata": {},
   "outputs": [],
   "source": [
    "with open(xmlpath, 'r', encoding='utf-8') as f:\n",
    "    xml = f.read()"
   ]
  },
  {
   "cell_type": "code",
   "execution_count": 44,
   "metadata": {},
   "outputs": [],
   "source": [
    "xmlDict = xmltodict.parse(xml)"
   ]
  },
  {
   "cell_type": "code",
   "execution_count": 54,
   "metadata": {},
   "outputs": [
    {
     "data": {
      "text/plain": [
       "[{'@key': 'activeMode', '@value': 'ResonantGalvo'},\n",
       " {'@key': 'bitDepth', '@value': '13'},\n",
       " {'@key': 'currentScanAmplitude',\n",
       "  'IndexedValue': [{'@index': 'XAxis', '@value': '-3.44490186691406'},\n",
       "   {'@index': 'YAxis', '@value': '-2.6421152724375'}]},\n",
       " {'@key': 'currentScanCenter',\n",
       "  'IndexedValue': [{'@index': 'XAxis', '@value': '0.00615915876953'},\n",
       "   {'@index': 'YAxis', '@value': '0.15743173903125'}]},\n",
       " {'@key': 'daqGain',\n",
       "  'IndexedValue': [{'@index': '0', '@value': '0', '@description': '±0.625V'},\n",
       "   {'@index': '1', '@value': '-1', '@description': '±1.25V'},\n",
       "   {'@index': '2', '@value': '-1', '@description': '±1.25V'}]},\n",
       " {'@key': 'dwellTime', '@value': '0.4'},\n",
       " {'@key': 'framePeriod', '@value': '0.012953626'},\n",
       " {'@key': 'interlacedScanTrackCount', '@value': '0'},\n",
       " {'@key': 'laserPower',\n",
       "  'IndexedValue': [{'@index': '0',\n",
       "    '@value': '262.02392578125',\n",
       "    '@description': 'Tunable'},\n",
       "   {'@index': '1', '@value': '205.01708984375', '@description': 'Fixed'},\n",
       "   {'@index': '2', '@value': '0', '@description': 'LED'}]},\n",
       " {'@key': 'laserWavelength',\n",
       "  'IndexedValue': {'@index': '0',\n",
       "   '@value': '920',\n",
       "   '@description': 'Excitation 1'}},\n",
       " {'@key': 'linesPerFrame', '@value': '193'},\n",
       " {'@key': 'maxVoltage',\n",
       "  'IndexedValue': [{'@index': 'XAxis', '@value': '1.576744645'},\n",
       "   {'@index': 'YAxis', '@value': '-1.1636258971875'}]},\n",
       " {'@key': 'micronsPerPixel',\n",
       "  'IndexedValue': [{'@index': 'XAxis', '@value': '1.36027230891537'},\n",
       "   {'@index': 'YAxis', '@value': '1.36027230891537'},\n",
       "   {'@index': 'ZAxis', '@value': '5'}]},\n",
       " {'@key': 'minVoltage',\n",
       "  'IndexedValue': [{'@index': 'XAxis', '@value': '-1.56442632746094'},\n",
       "   {'@index': 'YAxis', '@value': '1.47848937525'}]},\n",
       " {'@key': 'objectiveLens', '@value': 'Leica 20x'},\n",
       " {'@key': 'objectiveLensMag', '@value': '20'},\n",
       " {'@key': 'objectiveLensNA', '@value': '1'},\n",
       " {'@key': 'opticalZoom', '@value': '2'},\n",
       " {'@key': 'pixelsPerLine', '@value': '255'},\n",
       " {'@key': 'pmtGain',\n",
       "  'IndexedValue': [{'@index': '0',\n",
       "    '@value': '586.5168457031',\n",
       "    '@description': 'Red PMT'},\n",
       "   {'@index': '1', '@value': '491', '@description': 'Green PMT'}]},\n",
       " {'@key': 'positionCurrent',\n",
       "  'SubindexedValues': [{'@index': 'XAxis',\n",
       "    'SubindexedValue': {'@subindex': '0', '@value': '23.185'}},\n",
       "   {'@index': 'YAxis',\n",
       "    'SubindexedValue': {'@subindex': '0', '@value': '-1130.497'}},\n",
       "   {'@index': 'ZAxis',\n",
       "    'SubindexedValue': [{'@subindex': '0',\n",
       "      '@value': '1134.675',\n",
       "      '@description': 'Z Focus'},\n",
       "     {'@subindex': '1',\n",
       "      '@value': '204',\n",
       "      '@description': 'Bruker 400 μm Piezo'}]}]},\n",
       " {'@key': 'preampFilter', '@value': 'NoFilter', '@description': 'None'},\n",
       " {'@key': 'preampOffset',\n",
       "  'SubindexedValues': {'@index': '0',\n",
       "   'SubindexedValue': [{'@subindex': '0',\n",
       "     '@value': '0.01',\n",
       "     '@description': 'Ch1'},\n",
       "    {'@subindex': '1', '@value': '0', '@description': 'Ch2'}]}},\n",
       " {'@key': 'rastersPerFrame', '@value': '1'},\n",
       " {'@key': 'rotation', '@value': '0'},\n",
       " {'@key': 'samplesPerPixel', '@value': '6'},\n",
       " {'@key': 'scanLinePeriod', '@value': '6.3143E-05'},\n",
       " {'@key': 'twophotonLaserDispersion',\n",
       "  'IndexedValue': {'@index': '0', '@value': '1563', '@description': 'GDD'}},\n",
       " {'@key': 'twophotonLaserPower',\n",
       "  'IndexedValue': {'@index': '0', '@value': '2758'}},\n",
       " {'@key': 'useInterlacedScanPattern', '@value': 'False'},\n",
       " {'@key': 'xYStageGridIndex', '@value': '-1'},\n",
       " {'@key': 'xYStageGridXIndex', '@value': '-1'},\n",
       " {'@key': 'xYStageGridYIndex', '@value': '-1'},\n",
       " {'@key': 'yAspectExpansion', '@value': '1'},\n",
       " {'@key': 'zDevice', '@value': '1'}]"
      ]
     },
     "execution_count": 54,
     "metadata": {},
     "output_type": "execute_result"
    }
   ],
   "source": [
    "xmlDict['PVScan']['PVStateShard']['PVStateValue']"
   ]
  },
  {
   "cell_type": "code",
   "execution_count": null,
   "metadata": {},
   "outputs": [],
   "source": []
  }
 ],
 "metadata": {
  "kernelspec": {
   "display_name": "Python 3",
   "language": "python",
   "name": "python3"
  },
  "language_info": {
   "codemirror_mode": {
    "name": "ipython",
    "version": 3
   },
   "file_extension": ".py",
   "mimetype": "text/x-python",
   "name": "python",
   "nbconvert_exporter": "python",
   "pygments_lexer": "ipython3",
   "version": "3.12.0"
  }
 },
 "nbformat": 4,
 "nbformat_minor": 0
}
