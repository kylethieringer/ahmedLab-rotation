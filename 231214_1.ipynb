{
 "cells": [
  {
   "cell_type": "code",
   "execution_count": 3,
   "metadata": {
    "collapsed": true
   },
   "outputs": [],
   "source": [
    "import numpy as np\n",
    "import h5py\n",
    "import os\n",
    "import glob\n",
    "from nre import io, moco, roi\n",
    "import ants\n",
    "\n",
    "from util import _zscore, _zdff\n",
    "\n",
    "import matplotlib.pyplot as plt\n",
    "from matplotlib.widgets import Slider"
   ]
  },
  {
   "cell_type": "code",
   "execution_count": 5,
   "outputs": [
    {
     "name": "stdout",
     "output_type": "stream",
     "text": [
      "num ch1 .nii files:  5\n",
      "num ch2 .nii files:  5\n"
     ]
    }
   ],
   "source": [
    "dropboxDir = \"/Users/kyle/Library/CloudStorage/Dropbox-ahmedlab/ahmedlab-big/kyle/data\"\n",
    "fly = '231213_106-013'\n",
    "dataDir = os.path.join(dropboxDir, fly)\n",
    "nifty_paths_ch1 = glob.glob(os.path.join(dataDir, fly+'_channel_1*.nii')).sort()\n",
    "nifty_paths_ch2 = glob.glob(os.path.join(dataDir, fly+'_channel_2*.nii')).sort()\n",
    "print(\"num ch1 .nii files: \", len(nifty_paths_ch1))\n",
    "print(\"num ch2 .nii files: \", len(nifty_paths_ch2))\n",
    "\n",
    "labels_path = os.path.join(dataDir, fly+'_labels.h5')"
   ],
   "metadata": {
    "collapsed": false
   }
  },
  {
   "cell_type": "code",
   "execution_count": 25,
   "outputs": [],
   "source": [
    "nii_split_num = 1\n",
    "splitID = os.path.basename(nifty_paths_ch2[nii_split_num]).split('_')[-1].split('.')[0]\n",
    "\n",
    "brain = io.load(nifty_paths_ch2[nii_split_num])\n",
    "\n",
    "n_slices = brain.shape[2]\n",
    "n_vols = brain.shape[-1]"
   ],
   "metadata": {
    "collapsed": false
   }
  },
  {
   "cell_type": "code",
   "execution_count": 26,
   "outputs": [
    {
     "name": "stdout",
     "output_type": "stream",
     "text": [
      "nii split ID:  s1000\n",
      "# z slices:  25\n",
      "# volumes:  500\n"
     ]
    }
   ],
   "source": [
    "print(\"nii split ID: \", splitID)\n",
    "print(\"# z slices: \", n_slices)\n",
    "print(\"# volumes: \", n_vols)\n"
   ],
   "metadata": {
    "collapsed": false
   }
  },
  {
   "cell_type": "code",
   "execution_count": 27,
   "outputs": [],
   "source": [
    "mean_brain = np.mean(brain, axis=-1)\n",
    "fixed = ants.from_numpy(mean_brain)"
   ],
   "metadata": {
    "collapsed": false
   }
  },
  {
   "cell_type": "code",
   "execution_count": 29,
   "outputs": [],
   "source": [
    "io.save(os.path.join(dataDir, f'fixed_{splitID}.nii'), mean_brain)"
   ],
   "metadata": {
    "collapsed": false
   }
  },
  {
   "cell_type": "code",
   "execution_count": 30,
   "outputs": [],
   "source": [
    "moco_brain = np.zeros_like(brain)\n",
    "\n",
    "for vol in range(n_vols):\n",
    "    moving = ants.from_numpy(brain[:, :, :, vol])\n",
    "    moco_brain[:, :, :, vol] = moco.apply(fixed, moving).numpy()"
   ],
   "metadata": {
    "collapsed": false
   }
  },
  {
   "cell_type": "code",
   "execution_count": 31,
   "outputs": [],
   "source": [
    "io.save(os.path.join(dataDir, f'moco_brain_{splitID}.nii'), moco_brain)\n"
   ],
   "metadata": {
    "collapsed": false
   }
  },
  {
   "cell_type": "code",
   "execution_count": 32,
   "outputs": [
    {
     "data": {
      "text/plain": "(255, 193, 25, 500)"
     },
     "execution_count": 32,
     "metadata": {},
     "output_type": "execute_result"
    }
   ],
   "source": [
    "moco_brain.shape"
   ],
   "metadata": {
    "collapsed": false
   }
  },
  {
   "cell_type": "code",
   "execution_count": 34,
   "outputs": [],
   "source": [
    "%matplotlib qt\n",
    "fig, ax = plt.subplots()\n",
    "l = ax.imshow(moco_brain[:,:,0,0], origin = 'lower', cmap='binary')\n",
    "\n",
    "axT = fig.add_axes([0.2, 0.95, 0.65, 0.03])\n",
    "axO = fig.add_axes([0.2, 0.90, 0.65, 0.03])\n",
    "\n",
    "sliderT = Slider(axT, 'z', 0, moco_brain.shape[2]-1, valinit=0, valfmt='%i')\n",
    "sliderO = Slider(axO, 't', 0, moco_brain.shape[3]-1, valinit=0, valfmt='%i')\n",
    "\n",
    "def update(val):\n",
    "    i = int(sliderT.val)\n",
    "    j = int(sliderO.val)\n",
    "    im = moco_brain[:,:,i,j]\n",
    "    l.set_data(im)\n",
    "    fig.canvas.draw_idle()\n",
    "\n",
    "sliderT.on_changed(update)\n",
    "sliderO.on_changed(update)\n",
    "\n",
    "plt.show()"
   ],
   "metadata": {
    "collapsed": false
   }
  },
  {
   "cell_type": "code",
   "execution_count": 35,
   "outputs": [],
   "source": [
    "n_clusters = 100  # this can be any number... I suggest 500 or 1000. Brezovec et al used 2000\n"
   ],
   "metadata": {
    "collapsed": false
   }
  },
  {
   "cell_type": "code",
   "execution_count": null,
   "outputs": [],
   "source": [
    "labels = []\n",
    "\n",
    "# for each slice in Z, generate n_clusters of pixels and return the pixel label\n",
    "for iSlice in range(moco_brain.shape[2]):\n",
    "    cluster_model = roi.create_2d_clusters(moco_brain[:, :, iSlice, :], n_clusters, 'tmp/cluster_mem')\n",
    "    labels.append(cluster_model.labels_)"
   ],
   "metadata": {
    "collapsed": false,
    "pycharm": {
     "is_executing": true
    }
   }
  },
  {
   "cell_type": "code",
   "execution_count": null,
   "outputs": [],
   "source": [],
   "metadata": {
    "collapsed": false
   }
  }
 ],
 "metadata": {
  "kernelspec": {
   "display_name": "Python 3",
   "language": "python",
   "name": "python3"
  },
  "language_info": {
   "codemirror_mode": {
    "name": "ipython",
    "version": 2
   },
   "file_extension": ".py",
   "mimetype": "text/x-python",
   "name": "python",
   "nbconvert_exporter": "python",
   "pygments_lexer": "ipython2",
   "version": "2.7.6"
  }
 },
 "nbformat": 4,
 "nbformat_minor": 0
}
